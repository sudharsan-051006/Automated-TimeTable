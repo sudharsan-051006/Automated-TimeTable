{
  "cells": [
    {
      "cell_type": "code",
      "source": [],
      "metadata": {
        "id": "0scCsSGr4PHA"
      },
      "id": "0scCsSGr4PHA",
      "execution_count": null,
      "outputs": []
    }
  ],
  "metadata": {
    "kernelspec": {
      "display_name": "Python 3",
      "name": "python3"
    },
    "language_info": {
      "name": "python"
    },
    "required_libs": [],
    "colab": {
      "provenance": []
    }
  },
  "nbformat": 4,
  "nbformat_minor": 5
}